{
 "cells": [
  {
   "cell_type": "markdown",
   "metadata": {},
   "source": [
    "# Convolutional Neural Network"
   ]
  },
  {
   "cell_type": "markdown",
   "metadata": {},
   "source": [
    "**Importing the Keras libraries and packages**"
   ]
  },
  {
   "cell_type": "code",
   "execution_count": 10,
   "metadata": {},
   "outputs": [],
   "source": [
    "from keras.models import Sequential\n",
    "from keras.layers import Conv2D\n",
    "from keras.layers import MaxPooling2D\n",
    "from keras.layers import Flatten\n",
    "from keras.layers import Dense"
   ]
  },
  {
   "cell_type": "markdown",
   "metadata": {},
   "source": [
    "**Part 1 - Building the CNN**"
   ]
  },
  {
   "cell_type": "code",
   "execution_count": 13,
   "metadata": {},
   "outputs": [],
   "source": [
    "# Initialising the CNN\n",
    "classifier = Sequential()\n",
    "\n",
    "# Step 1 - Convolution\n",
    "#classifier.add(Convolution2D(32, 3, 3, input_shape = (64, 64, 3), activation = 'relu'))\n",
    "classifier.add(Conv2D(32, (3, 3), input_shape = (64, 64, 3), activation = 'relu'))\n",
    "\n",
    "# Step 2 - Pooling\n",
    "classifier.add(MaxPooling2D(pool_size = (2, 2)))\n",
    "\n",
    "# Adding a second convolutional layer\n",
    "classifier.add(Conv2D(32, (3, 3), activation = 'relu'))\n",
    "classifier.add(MaxPooling2D(pool_size = (2, 2)))\n",
    "\n",
    "# Step 3 - Flattening\n",
    "classifier.add(Flatten())\n",
    "\n",
    "# Step 4 - Full connection\n",
    "classifier.add(Dense(activation = 'relu', units = 128))\n",
    "classifier.add(Dense(activation = 'sigmoid', units = 1))\n",
    "\n",
    "# Compiling the CNN\n",
    "classifier.compile(optimizer = 'adam', loss = 'binary_crossentropy', metrics = ['accuracy'])"
   ]
  },
  {
   "cell_type": "markdown",
   "metadata": {},
   "source": [
    "**Part 2 - Fitting the CNN to the images**"
   ]
  },
  {
   "cell_type": "code",
   "execution_count": 14,
   "metadata": {},
   "outputs": [
    {
     "name": "stdout",
     "output_type": "stream",
     "text": [
      "Found 8000 images belonging to 2 classes.\n",
      "Found 2000 images belonging to 2 classes.\n"
     ]
    }
   ],
   "source": [
    "from keras.preprocessing.image import ImageDataGenerator\n",
    "\n",
    "train_datagen = ImageDataGenerator(rescale = 1./255,\n",
    "                                   shear_range = 0.2,\n",
    "                                   zoom_range = 0.2,\n",
    "                                   horizontal_flip = True)\n",
    "\n",
    "test_datagen = ImageDataGenerator(rescale = 1./255)\n",
    "\n",
    "training_set = train_datagen.flow_from_directory('dataset/training_set',\n",
    "                                                 target_size = (64, 64),\n",
    "                                                 batch_size = 32,\n",
    "                                                 class_mode = 'binary')\n",
    "\n",
    "test_set = test_datagen.flow_from_directory('dataset/test_set',\n",
    "                                            target_size = (64, 64),\n",
    "                                            batch_size = 32,\n",
    "                                            class_mode = 'binary')"
   ]
  },
  {
   "cell_type": "code",
   "execution_count": 24,
   "metadata": {},
   "outputs": [
    {
     "name": "stdout",
     "output_type": "stream",
     "text": [
      "Epoch 1/10\n",
      "8000/8000 [==============================] - 1285s 161ms/step - loss: 0.2249 - acc: 0.9056 - val_loss: 0.6464 - val_acc: 0.8053\n",
      "Epoch 2/10\n",
      "8000/8000 [==============================] - 1241s 155ms/step - loss: 0.0750 - acc: 0.9727 - val_loss: 0.9061 - val_acc: 0.8060\n",
      "Epoch 3/10\n",
      "8000/8000 [==============================] - 1208s 151ms/step - loss: 0.0473 - acc: 0.9837 - val_loss: 0.9568 - val_acc: 0.8231\n",
      "Epoch 4/10\n",
      "8000/8000 [==============================] - 1210s 151ms/step - loss: 0.0343 - acc: 0.9882 - val_loss: 1.0665 - val_acc: 0.8154\n",
      "Epoch 5/10\n",
      "8000/8000 [==============================] - 1224s 153ms/step - loss: 0.0282 - acc: 0.9905 - val_loss: 1.2618 - val_acc: 0.8020\n",
      "Epoch 6/10\n",
      "8000/8000 [==============================] - 1198s 150ms/step - loss: 0.0249 - acc: 0.9919 - val_loss: 1.1477 - val_acc: 0.8061\n",
      "Epoch 7/10\n",
      "8000/8000 [==============================] - 1227s 153ms/step - loss: 0.0198 - acc: 0.9934 - val_loss: 1.2955 - val_acc: 0.8120\n",
      "Epoch 8/10\n",
      "8000/8000 [==============================] - 1236s 155ms/step - loss: 0.0185 - acc: 0.9939 - val_loss: 1.2646 - val_acc: 0.8131\n",
      "Epoch 9/10\n",
      "8000/8000 [==============================] - 1225s 153ms/step - loss: 0.0167 - acc: 0.9945 - val_loss: 1.3683 - val_acc: 0.8035\n",
      "Epoch 10/10\n",
      "8000/8000 [==============================] - 1275s 159ms/step - loss: 0.0142 - acc: 0.9953 - val_loss: 1.6573 - val_acc: 0.7914\n"
     ]
    },
    {
     "data": {
      "text/plain": [
       "<keras.callbacks.History at 0x1ec801137f0>"
      ]
     },
     "execution_count": 24,
     "metadata": {},
     "output_type": "execute_result"
    }
   ],
   "source": [
    "classifier.fit_generator(training_set,\n",
    "                         steps_per_epoch = 8000,\n",
    "                         epochs = 10,\n",
    "                         validation_data = test_set,\n",
    "                         validation_steps = 2000)"
   ]
  },
  {
   "cell_type": "code",
   "execution_count": null,
   "metadata": {},
   "outputs": [],
   "source": []
  }
 ],
 "metadata": {
  "kernelspec": {
   "display_name": "Python 3",
   "language": "python",
   "name": "python3"
  },
  "language_info": {
   "codemirror_mode": {
    "name": "ipython",
    "version": 3
   },
   "file_extension": ".py",
   "mimetype": "text/x-python",
   "name": "python",
   "nbconvert_exporter": "python",
   "pygments_lexer": "ipython3",
   "version": "3.6.5"
  }
 },
 "nbformat": 4,
 "nbformat_minor": 2
}
