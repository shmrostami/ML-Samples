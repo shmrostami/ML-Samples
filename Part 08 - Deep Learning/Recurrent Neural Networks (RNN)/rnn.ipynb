{
 "cells": [
  {
   "cell_type": "markdown",
   "metadata": {},
   "source": [
    "# Recurrent Neural Network"
   ]
  },
  {
   "cell_type": "markdown",
   "metadata": {},
   "source": [
    "### Part 1 - Data Preprocessing\n",
    "\n",
    "**Importing the libraries**"
   ]
  },
  {
   "cell_type": "code",
   "execution_count": 32,
   "metadata": {},
   "outputs": [],
   "source": [
    "import numpy as np\n",
    "import matplotlib.pyplot as plt\n",
    "import pandas as pd"
   ]
  },
  {
   "cell_type": "markdown",
   "metadata": {},
   "source": [
    "**Importing the training set**"
   ]
  },
  {
   "cell_type": "code",
   "execution_count": 34,
   "metadata": {},
   "outputs": [
    {
     "data": {
      "text/plain": [
       "array([[325.25],\n",
       "       [331.27],\n",
       "       [329.83],\n",
       "       ...,\n",
       "       [793.7 ],\n",
       "       [783.33],\n",
       "       [782.75]])"
      ]
     },
     "execution_count": 34,
     "metadata": {},
     "output_type": "execute_result"
    }
   ],
   "source": [
    "training_set = pd.read_csv('Google_Stock_Price_Train.csv')\n",
    "training_set = training_set.iloc[:, 1:2].values\n",
    "training_set\n",
    "#training_set.shape -> (1258, 1)"
   ]
  },
  {
   "cell_type": "markdown",
   "metadata": {},
   "source": [
    "**Feature Scaling**"
   ]
  },
  {
   "cell_type": "code",
   "execution_count": 35,
   "metadata": {},
   "outputs": [],
   "source": [
    "from sklearn.preprocessing import MinMaxScaler\n",
    "sc = MinMaxScaler()\n",
    "training_set = sc.fit_transform(training_set)"
   ]
  },
  {
   "cell_type": "markdown",
   "metadata": {},
   "source": [
    "**Getting the inputs and the outputs**"
   ]
  },
  {
   "cell_type": "code",
   "execution_count": 36,
   "metadata": {},
   "outputs": [],
   "source": [
    "X_train = training_set[0:1257]\n",
    "y_train = training_set[1:1258]"
   ]
  },
  {
   "cell_type": "markdown",
   "metadata": {},
   "source": [
    "**Reshaping**"
   ]
  },
  {
   "cell_type": "code",
   "execution_count": 37,
   "metadata": {},
   "outputs": [
    {
     "data": {
      "text/plain": [
       "(1257, 1, 1)"
      ]
     },
     "execution_count": 37,
     "metadata": {},
     "output_type": "execute_result"
    }
   ],
   "source": [
    "X_train = np.reshape(X_train, (X_train.shape[0], X_train.shape[1], 1))\n",
    "X_train.shape"
   ]
  },
  {
   "cell_type": "markdown",
   "metadata": {},
   "source": [
    "### Part 2 - Building the RNN\n",
    "**Importing the Keras libraries and packages**"
   ]
  },
  {
   "cell_type": "code",
   "execution_count": 38,
   "metadata": {},
   "outputs": [],
   "source": [
    "from keras.models import Sequential\n",
    "from keras.layers import Dense\n",
    "from keras.layers import LSTM"
   ]
  },
  {
   "cell_type": "code",
   "execution_count": 39,
   "metadata": {},
   "outputs": [],
   "source": [
    "# Initialising the RNN\n",
    "regressor = Sequential()\n",
    "\n",
    "# Adding the input layer and the LSTM layer\n",
    "regressor.add(LSTM(units = 4, activation = 'sigmoid', input_shape = (None, 1)))\n",
    "\n",
    "# Adding the output layer\n",
    "regressor.add(Dense(units = 1))\n",
    "\n",
    "# Compiling the RNN\n",
    "regressor.compile(optimizer = 'adam', loss = 'mean_squared_error')"
   ]
  },
  {
   "cell_type": "markdown",
   "metadata": {},
   "source": [
    "**Fitting the CNN to the images**"
   ]
  },
  {
   "cell_type": "code",
   "execution_count": 40,
   "metadata": {},
   "outputs": [
    {
     "name": "stdout",
     "output_type": "stream",
     "text": [
      "Epoch 1/200\n",
      "1257/1257 [==============================] - 0s 327us/step - loss: 0.0994\n",
      "Epoch 2/200\n",
      "1257/1257 [==============================] - 0s 32us/step - loss: 0.0811\n",
      "Epoch 3/200\n",
      "1257/1257 [==============================] - 0s 30us/step - loss: 0.0751\n",
      "Epoch 4/200\n",
      "1257/1257 [==============================] - 0s 32us/step - loss: 0.0731\n",
      "Epoch 5/200\n",
      "1257/1257 [==============================] - 0s 32us/step - loss: 0.0715\n",
      "Epoch 6/200\n",
      "1257/1257 [==============================] - 0s 33us/step - loss: 0.0700\n",
      "Epoch 7/200\n",
      "1257/1257 [==============================] - 0s 32us/step - loss: 0.0683\n",
      "Epoch 8/200\n",
      "1257/1257 [==============================] - 0s 32us/step - loss: 0.0667\n",
      "Epoch 9/200\n",
      "1257/1257 [==============================] - 0s 31us/step - loss: 0.0649\n",
      "Epoch 10/200\n",
      "1257/1257 [==============================] - 0s 32us/step - loss: 0.0632\n",
      "Epoch 11/200\n",
      "1257/1257 [==============================] - 0s 32us/step - loss: 0.0613\n",
      "Epoch 12/200\n",
      "1257/1257 [==============================] - 0s 33us/step - loss: 0.0594\n",
      "Epoch 13/200\n",
      "1257/1257 [==============================] - 0s 32us/step - loss: 0.0574\n",
      "Epoch 14/200\n",
      "1257/1257 [==============================] - 0s 32us/step - loss: 0.0555\n",
      "Epoch 15/200\n",
      "1257/1257 [==============================] - 0s 30us/step - loss: 0.0535\n",
      "Epoch 16/200\n",
      "1257/1257 [==============================] - 0s 30us/step - loss: 0.0513\n",
      "Epoch 17/200\n",
      "1257/1257 [==============================] - 0s 31us/step - loss: 0.0492\n",
      "Epoch 18/200\n",
      "1257/1257 [==============================] - 0s 35us/step - loss: 0.0471\n",
      "Epoch 19/200\n",
      "1257/1257 [==============================] - 0s 37us/step - loss: 0.0449\n",
      "Epoch 20/200\n",
      "1257/1257 [==============================] - 0s 33us/step - loss: 0.0427\n",
      "Epoch 21/200\n",
      "1257/1257 [==============================] - 0s 32us/step - loss: 0.0405\n",
      "Epoch 22/200\n",
      "1257/1257 [==============================] - 0s 32us/step - loss: 0.0382\n",
      "Epoch 23/200\n",
      "1257/1257 [==============================] - 0s 32us/step - loss: 0.0359\n",
      "Epoch 24/200\n",
      "1257/1257 [==============================] - 0s 32us/step - loss: 0.0337\n",
      "Epoch 25/200\n",
      "1257/1257 [==============================] - 0s 32us/step - loss: 0.0314\n",
      "Epoch 26/200\n",
      "1257/1257 [==============================] - 0s 33us/step - loss: 0.0292\n",
      "Epoch 27/200\n",
      "1257/1257 [==============================] - 0s 32us/step - loss: 0.0270\n",
      "Epoch 28/200\n",
      "1257/1257 [==============================] - 0s 31us/step - loss: 0.0249\n",
      "Epoch 29/200\n",
      "1257/1257 [==============================] - 0s 33us/step - loss: 0.0228\n",
      "Epoch 30/200\n",
      "1257/1257 [==============================] - 0s 35us/step - loss: 0.0207\n",
      "Epoch 31/200\n",
      "1257/1257 [==============================] - 0s 33us/step - loss: 0.0188\n",
      "Epoch 32/200\n",
      "1257/1257 [==============================] - 0s 32us/step - loss: 0.0170\n",
      "Epoch 33/200\n",
      "1257/1257 [==============================] - 0s 35us/step - loss: 0.0152\n",
      "Epoch 34/200\n",
      "1257/1257 [==============================] - 0s 33us/step - loss: 0.0135\n",
      "Epoch 35/200\n",
      "1257/1257 [==============================] - 0s 32us/step - loss: 0.0119\n",
      "Epoch 36/200\n",
      "1257/1257 [==============================] - 0s 34us/step - loss: 0.0105\n",
      "Epoch 37/200\n",
      "1257/1257 [==============================] - 0s 33us/step - loss: 0.0091\n",
      "Epoch 38/200\n",
      "1257/1257 [==============================] - 0s 33us/step - loss: 0.0079\n",
      "Epoch 39/200\n",
      "1257/1257 [==============================] - 0s 32us/step - loss: 0.0068\n",
      "Epoch 40/200\n",
      "1257/1257 [==============================] - 0s 33us/step - loss: 0.0058\n",
      "Epoch 41/200\n",
      "1257/1257 [==============================] - 0s 30us/step - loss: 0.0049\n",
      "Epoch 42/200\n",
      "1257/1257 [==============================] - 0s 34us/step - loss: 0.0042\n",
      "Epoch 43/200\n",
      "1257/1257 [==============================] - 0s 36us/step - loss: 0.0035\n",
      "Epoch 44/200\n",
      "1257/1257 [==============================] - 0s 32us/step - loss: 0.0029\n",
      "Epoch 45/200\n",
      "1257/1257 [==============================] - 0s 32us/step - loss: 0.0024\n",
      "Epoch 46/200\n",
      "1257/1257 [==============================] - 0s 31us/step - loss: 0.0020\n",
      "Epoch 47/200\n",
      "1257/1257 [==============================] - 0s 33us/step - loss: 0.0017\n",
      "Epoch 48/200\n",
      "1257/1257 [==============================] - 0s 33us/step - loss: 0.0014\n",
      "Epoch 49/200\n",
      "1257/1257 [==============================] - 0s 34us/step - loss: 0.0011\n",
      "Epoch 50/200\n",
      "1257/1257 [==============================] - 0s 42us/step - loss: 9.3923e-04\n",
      "Epoch 51/200\n",
      "1257/1257 [==============================] - 0s 50us/step - loss: 7.8269e-04\n",
      "Epoch 52/200\n",
      "1257/1257 [==============================] - 0s 50us/step - loss: 6.6090e-04\n",
      "Epoch 53/200\n",
      "1257/1257 [==============================] - 0s 50us/step - loss: 5.6276e-04\n",
      "Epoch 54/200\n",
      "1257/1257 [==============================] - 0s 50us/step - loss: 4.8560e-04\n",
      "Epoch 55/200\n",
      "1257/1257 [==============================] - 0s 39us/step - loss: 4.2568e-04\n",
      "Epoch 56/200\n",
      "1257/1257 [==============================] - 0s 37us/step - loss: 3.7995e-04\n",
      "Epoch 57/200\n",
      "1257/1257 [==============================] - 0s 37us/step - loss: 3.4708e-04\n",
      "Epoch 58/200\n",
      "1257/1257 [==============================] - 0s 34us/step - loss: 3.2285e-04\n",
      "Epoch 59/200\n",
      "1257/1257 [==============================] - 0s 33us/step - loss: 3.0153e-04\n",
      "Epoch 60/200\n",
      "1257/1257 [==============================] - 0s 33us/step - loss: 2.8879e-04\n",
      "Epoch 61/200\n",
      "1257/1257 [==============================] - 0s 32us/step - loss: 2.7814e-04\n",
      "Epoch 62/200\n",
      "1257/1257 [==============================] - 0s 33us/step - loss: 2.7062e-04\n",
      "Epoch 63/200\n",
      "1257/1257 [==============================] - 0s 34us/step - loss: 2.6531e-04\n",
      "Epoch 64/200\n",
      "1257/1257 [==============================] - 0s 39us/step - loss: 2.6103e-04\n",
      "Epoch 65/200\n",
      "1257/1257 [==============================] - 0s 34us/step - loss: 2.5861e-04\n",
      "Epoch 66/200\n",
      "1257/1257 [==============================] - 0s 33us/step - loss: 2.5675e-04\n",
      "Epoch 67/200\n",
      "1257/1257 [==============================] - 0s 33us/step - loss: 2.5653e-04\n",
      "Epoch 68/200\n",
      "1257/1257 [==============================] - 0s 33us/step - loss: 2.5520e-04\n",
      "Epoch 69/200\n",
      "1257/1257 [==============================] - 0s 33us/step - loss: 2.5386e-04\n",
      "Epoch 70/200\n",
      "1257/1257 [==============================] - 0s 33us/step - loss: 2.5409e-04\n",
      "Epoch 71/200\n",
      "1257/1257 [==============================] - 0s 33us/step - loss: 2.5421e-04\n",
      "Epoch 72/200\n",
      "1257/1257 [==============================] - 0s 34us/step - loss: 2.5285e-04\n",
      "Epoch 73/200\n",
      "1257/1257 [==============================] - 0s 34us/step - loss: 2.5335e-04\n",
      "Epoch 74/200\n",
      "1257/1257 [==============================] - 0s 34us/step - loss: 2.5234e-04\n",
      "Epoch 75/200\n",
      "1257/1257 [==============================] - 0s 33us/step - loss: 2.5220e-04\n",
      "Epoch 76/200\n",
      "1257/1257 [==============================] - 0s 32us/step - loss: 2.5447e-04\n",
      "Epoch 77/200\n",
      "1257/1257 [==============================] - 0s 32us/step - loss: 2.5213e-04\n",
      "Epoch 78/200\n",
      "1257/1257 [==============================] - 0s 40us/step - loss: 2.5255e-04\n",
      "Epoch 79/200\n",
      "1257/1257 [==============================] - 0s 34us/step - loss: 2.5384e-04\n",
      "Epoch 80/200\n",
      "1257/1257 [==============================] - 0s 33us/step - loss: 2.5202e-04\n",
      "Epoch 81/200\n",
      "1257/1257 [==============================] - 0s 34us/step - loss: 2.5225e-04\n",
      "Epoch 82/200\n",
      "1257/1257 [==============================] - 0s 32us/step - loss: 2.5636e-04\n",
      "Epoch 83/200\n",
      "1257/1257 [==============================] - 0s 32us/step - loss: 2.5232e-04\n",
      "Epoch 84/200\n",
      "1257/1257 [==============================] - 0s 34us/step - loss: 2.5171e-04\n",
      "Epoch 85/200\n",
      "1257/1257 [==============================] - 0s 33us/step - loss: 2.5197e-04\n",
      "Epoch 86/200\n",
      "1257/1257 [==============================] - 0s 33us/step - loss: 2.5203e-04\n",
      "Epoch 87/200\n",
      "1257/1257 [==============================] - 0s 35us/step - loss: 2.5213e-04\n",
      "Epoch 88/200\n",
      "1257/1257 [==============================] - 0s 32us/step - loss: 2.5138e-04\n",
      "Epoch 89/200\n",
      "1257/1257 [==============================] - 0s 32us/step - loss: 2.5103e-04\n",
      "Epoch 90/200\n",
      "1257/1257 [==============================] - 0s 32us/step - loss: 2.5115e-04\n",
      "Epoch 91/200\n",
      "1257/1257 [==============================] - 0s 32us/step - loss: 2.5134e-04\n",
      "Epoch 92/200\n",
      "1257/1257 [==============================] - 0s 33us/step - loss: 2.5068e-04\n",
      "Epoch 93/200\n",
      "1257/1257 [==============================] - 0s 32us/step - loss: 2.5159e-04\n",
      "Epoch 94/200\n"
     ]
    },
    {
     "name": "stdout",
     "output_type": "stream",
     "text": [
      "1257/1257 [==============================] - 0s 32us/step - loss: 2.5121e-04\n",
      "Epoch 95/200\n",
      "1257/1257 [==============================] - 0s 32us/step - loss: 2.5111e-04\n",
      "Epoch 96/200\n",
      "1257/1257 [==============================] - 0s 32us/step - loss: 2.5120e-04\n",
      "Epoch 97/200\n",
      "1257/1257 [==============================] - 0s 33us/step - loss: 2.5065e-04\n",
      "Epoch 98/200\n",
      "1257/1257 [==============================] - 0s 31us/step - loss: 2.5086e-04\n",
      "Epoch 99/200\n",
      "1257/1257 [==============================] - 0s 31us/step - loss: 2.5060e-04\n",
      "Epoch 100/200\n",
      "1257/1257 [==============================] - 0s 32us/step - loss: 2.5136e-04\n",
      "Epoch 101/200\n",
      "1257/1257 [==============================] - 0s 30us/step - loss: 2.5073e-04\n",
      "Epoch 102/200\n",
      "1257/1257 [==============================] - 0s 31us/step - loss: 2.5146e-04\n",
      "Epoch 103/200\n",
      "1257/1257 [==============================] - 0s 34us/step - loss: 2.4985e-04\n",
      "Epoch 104/200\n",
      "1257/1257 [==============================] - 0s 38us/step - loss: 2.5150e-04\n",
      "Epoch 105/200\n",
      "1257/1257 [==============================] - 0s 32us/step - loss: 2.5144e-04\n",
      "Epoch 106/200\n",
      "1257/1257 [==============================] - 0s 30us/step - loss: 2.5045e-04\n",
      "Epoch 107/200\n",
      "1257/1257 [==============================] - 0s 32us/step - loss: 2.5052e-04\n",
      "Epoch 108/200\n",
      "1257/1257 [==============================] - 0s 32us/step - loss: 2.5024e-04\n",
      "Epoch 109/200\n",
      "1257/1257 [==============================] - 0s 32us/step - loss: 2.5585e-04\n",
      "Epoch 110/200\n",
      "1257/1257 [==============================] - 0s 30us/step - loss: 2.5234e-04\n",
      "Epoch 111/200\n",
      "1257/1257 [==============================] - 0s 32us/step - loss: 2.5075e-04\n",
      "Epoch 112/200\n",
      "1257/1257 [==============================] - 0s 34us/step - loss: 2.4952e-04\n",
      "Epoch 113/200\n",
      "1257/1257 [==============================] - 0s 32us/step - loss: 2.5353e-04\n",
      "Epoch 114/200\n",
      "1257/1257 [==============================] - 0s 31us/step - loss: 2.4886e-04\n",
      "Epoch 115/200\n",
      "1257/1257 [==============================] - 0s 30us/step - loss: 2.4929e-04\n",
      "Epoch 116/200\n",
      "1257/1257 [==============================] - 0s 31us/step - loss: 2.5201e-04\n",
      "Epoch 117/200\n",
      "1257/1257 [==============================] - 0s 31us/step - loss: 2.4809e-04\n",
      "Epoch 118/200\n",
      "1257/1257 [==============================] - 0s 31us/step - loss: 2.5095e-04\n",
      "Epoch 119/200\n",
      "1257/1257 [==============================] - 0s 31us/step - loss: 2.4969e-04\n",
      "Epoch 120/200\n",
      "1257/1257 [==============================] - 0s 32us/step - loss: 2.5735e-04\n",
      "Epoch 121/200\n",
      "1257/1257 [==============================] - 0s 32us/step - loss: 2.5006e-04\n",
      "Epoch 122/200\n",
      "1257/1257 [==============================] - 0s 32us/step - loss: 2.5063e-04\n",
      "Epoch 123/200\n",
      "1257/1257 [==============================] - 0s 32us/step - loss: 2.4829e-04\n",
      "Epoch 124/200\n",
      "1257/1257 [==============================] - 0s 33us/step - loss: 2.5105e-04\n",
      "Epoch 125/200\n",
      "1257/1257 [==============================] - 0s 34us/step - loss: 2.4978e-04\n",
      "Epoch 126/200\n",
      "1257/1257 [==============================] - 0s 32us/step - loss: 2.4855e-04\n",
      "Epoch 127/200\n",
      "1257/1257 [==============================] - 0s 33us/step - loss: 2.4921e-04\n",
      "Epoch 128/200\n",
      "1257/1257 [==============================] - 0s 34us/step - loss: 2.5001e-04\n",
      "Epoch 129/200\n",
      "1257/1257 [==============================] - 0s 38us/step - loss: 2.4779e-04\n",
      "Epoch 130/200\n",
      "1257/1257 [==============================] - 0s 38us/step - loss: 2.4838e-04\n",
      "Epoch 131/200\n",
      "1257/1257 [==============================] - 0s 32us/step - loss: 2.4710e-04\n",
      "Epoch 132/200\n",
      "1257/1257 [==============================] - 0s 33us/step - loss: 2.4793e-04\n",
      "Epoch 133/200\n",
      "1257/1257 [==============================] - 0s 32us/step - loss: 2.4820e-04\n",
      "Epoch 134/200\n",
      "1257/1257 [==============================] - 0s 34us/step - loss: 2.4849e-04\n",
      "Epoch 135/200\n",
      "1257/1257 [==============================] - 0s 32us/step - loss: 2.4766e-04\n",
      "Epoch 136/200\n",
      "1257/1257 [==============================] - 0s 37us/step - loss: 2.5362e-04\n",
      "Epoch 137/200\n",
      "1257/1257 [==============================] - 0s 32us/step - loss: 2.4810e-04\n",
      "Epoch 138/200\n",
      "1257/1257 [==============================] - 0s 33us/step - loss: 2.4838e-04\n",
      "Epoch 139/200\n",
      "1257/1257 [==============================] - 0s 32us/step - loss: 2.4738e-04\n",
      "Epoch 140/200\n",
      "1257/1257 [==============================] - 0s 33us/step - loss: 2.5121e-04\n",
      "Epoch 141/200\n",
      "1257/1257 [==============================] - 0s 33us/step - loss: 2.4669e-04\n",
      "Epoch 142/200\n",
      "1257/1257 [==============================] - 0s 34us/step - loss: 2.4765e-04\n",
      "Epoch 143/200\n",
      "1257/1257 [==============================] - 0s 32us/step - loss: 2.4912e-04\n",
      "Epoch 144/200\n",
      "1257/1257 [==============================] - 0s 34us/step - loss: 2.4840e-04\n",
      "Epoch 145/200\n",
      "1257/1257 [==============================] - 0s 33us/step - loss: 2.4746e-04\n",
      "Epoch 146/200\n",
      "1257/1257 [==============================] - 0s 34us/step - loss: 2.4753e-04\n",
      "Epoch 147/200\n",
      "1257/1257 [==============================] - 0s 32us/step - loss: 2.4948e-04\n",
      "Epoch 148/200\n",
      "1257/1257 [==============================] - 0s 33us/step - loss: 2.4762e-04\n",
      "Epoch 149/200\n",
      "1257/1257 [==============================] - 0s 31us/step - loss: 2.4712e-04\n",
      "Epoch 150/200\n",
      "1257/1257 [==============================] - 0s 32us/step - loss: 2.4879e-04\n",
      "Epoch 151/200\n",
      "1257/1257 [==============================] - 0s 33us/step - loss: 2.4821e-04\n",
      "Epoch 152/200\n",
      "1257/1257 [==============================] - 0s 33us/step - loss: 2.4846e-04\n",
      "Epoch 153/200\n",
      "1257/1257 [==============================] - 0s 32us/step - loss: 2.5416e-04\n",
      "Epoch 154/200\n",
      "1257/1257 [==============================] - 0s 36us/step - loss: 2.4751e-04\n",
      "Epoch 155/200\n",
      "1257/1257 [==============================] - 0s 38us/step - loss: 2.4981e-04\n",
      "Epoch 156/200\n",
      "1257/1257 [==============================] - 0s 32us/step - loss: 2.4757e-04\n",
      "Epoch 157/200\n",
      "1257/1257 [==============================] - 0s 33us/step - loss: 2.4743e-04\n",
      "Epoch 158/200\n",
      "1257/1257 [==============================] - 0s 33us/step - loss: 2.4725e-04\n",
      "Epoch 159/200\n",
      "1257/1257 [==============================] - 0s 32us/step - loss: 2.4831e-04\n",
      "Epoch 160/200\n",
      "1257/1257 [==============================] - 0s 36us/step - loss: 2.5014e-04\n",
      "Epoch 161/200\n",
      "1257/1257 [==============================] - 0s 31us/step - loss: 2.4876e-04\n",
      "Epoch 162/200\n",
      "1257/1257 [==============================] - 0s 30us/step - loss: 2.5059e-04\n",
      "Epoch 163/200\n",
      "1257/1257 [==============================] - 0s 32us/step - loss: 2.5811e-04\n",
      "Epoch 164/200\n",
      "1257/1257 [==============================] - 0s 32us/step - loss: 2.4865e-04\n",
      "Epoch 165/200\n",
      "1257/1257 [==============================] - 0s 32us/step - loss: 2.4777e-04\n",
      "Epoch 166/200\n",
      "1257/1257 [==============================] - 0s 34us/step - loss: 2.4741e-04\n",
      "Epoch 167/200\n",
      "1257/1257 [==============================] - 0s 32us/step - loss: 2.4714e-04\n",
      "Epoch 168/200\n",
      "1257/1257 [==============================] - 0s 34us/step - loss: 2.4818e-04\n",
      "Epoch 169/200\n",
      "1257/1257 [==============================] - 0s 31us/step - loss: 2.5184e-04\n",
      "Epoch 170/200\n",
      "1257/1257 [==============================] - 0s 34us/step - loss: 2.4862e-04\n",
      "Epoch 171/200\n",
      "1257/1257 [==============================] - 0s 33us/step - loss: 2.4840e-04\n",
      "Epoch 172/200\n",
      "1257/1257 [==============================] - 0s 34us/step - loss: 2.5565e-04\n",
      "Epoch 173/200\n",
      "1257/1257 [==============================] - 0s 33us/step - loss: 2.5030e-04\n",
      "Epoch 174/200\n",
      "1257/1257 [==============================] - 0s 33us/step - loss: 2.4890e-04\n",
      "Epoch 175/200\n",
      "1257/1257 [==============================] - 0s 32us/step - loss: 2.5482e-04\n",
      "Epoch 176/200\n",
      "1257/1257 [==============================] - 0s 34us/step - loss: 2.4751e-04\n",
      "Epoch 177/200\n",
      "1257/1257 [==============================] - 0s 41us/step - loss: 2.4958e-04\n",
      "Epoch 178/200\n",
      "1257/1257 [==============================] - 0s 39us/step - loss: 2.4795e-04\n",
      "Epoch 179/200\n",
      "1257/1257 [==============================] - 0s 50us/step - loss: 2.4746e-04\n",
      "Epoch 180/200\n",
      "1257/1257 [==============================] - 0s 50us/step - loss: 2.4689e-04\n",
      "Epoch 181/200\n",
      "1257/1257 [==============================] - 0s 45us/step - loss: 2.4734e-04\n",
      "Epoch 182/200\n",
      "1257/1257 [==============================] - 0s 46us/step - loss: 2.5573e-04\n",
      "Epoch 183/200\n",
      "1257/1257 [==============================] - 0s 44us/step - loss: 2.5054e-04\n",
      "Epoch 184/200\n"
     ]
    },
    {
     "name": "stdout",
     "output_type": "stream",
     "text": [
      "1257/1257 [==============================] - 0s 43us/step - loss: 2.4836e-04\n",
      "Epoch 185/200\n",
      "1257/1257 [==============================] - 0s 37us/step - loss: 2.4767e-04\n",
      "Epoch 186/200\n",
      "1257/1257 [==============================] - 0s 33us/step - loss: 2.4813e-04\n",
      "Epoch 187/200\n",
      "1257/1257 [==============================] - 0s 30us/step - loss: 2.5096e-04\n",
      "Epoch 188/200\n",
      "1257/1257 [==============================] - 0s 31us/step - loss: 2.4822e-04\n",
      "Epoch 189/200\n",
      "1257/1257 [==============================] - 0s 31us/step - loss: 2.5211e-04\n",
      "Epoch 190/200\n",
      "1257/1257 [==============================] - 0s 32us/step - loss: 2.4734e-04\n",
      "Epoch 191/200\n",
      "1257/1257 [==============================] - 0s 30us/step - loss: 2.5175e-04\n",
      "Epoch 192/200\n",
      "1257/1257 [==============================] - 0s 32us/step - loss: 2.4726e-04\n",
      "Epoch 193/200\n",
      "1257/1257 [==============================] - 0s 33us/step - loss: 2.4878e-04\n",
      "Epoch 194/200\n",
      "1257/1257 [==============================] - 0s 32us/step - loss: 2.5028e-04\n",
      "Epoch 195/200\n",
      "1257/1257 [==============================] - 0s 32us/step - loss: 2.5028e-04\n",
      "Epoch 196/200\n",
      "1257/1257 [==============================] - 0s 33us/step - loss: 2.4751e-04\n",
      "Epoch 197/200\n",
      "1257/1257 [==============================] - 0s 37us/step - loss: 2.5068e-04\n",
      "Epoch 198/200\n",
      "1257/1257 [==============================] - 0s 34us/step - loss: 2.4754e-04\n",
      "Epoch 199/200\n",
      "1257/1257 [==============================] - 0s 32us/step - loss: 2.4970e-04\n",
      "Epoch 200/200\n",
      "1257/1257 [==============================] - 0s 31us/step - loss: 2.4956e-04\n"
     ]
    },
    {
     "data": {
      "text/plain": [
       "<keras.callbacks.History at 0x2c12ba05128>"
      ]
     },
     "execution_count": 40,
     "metadata": {},
     "output_type": "execute_result"
    }
   ],
   "source": [
    "regressor.fit(X_train, y_train, epochs = 200, batch_size = 32)"
   ]
  },
  {
   "cell_type": "markdown",
   "metadata": {},
   "source": [
    "### Part 3 - Making the predictions and visualising the results\n",
    "\n",
    "**Getting the real stock price of 2017**"
   ]
  },
  {
   "cell_type": "code",
   "execution_count": 41,
   "metadata": {},
   "outputs": [
    {
     "data": {
      "text/plain": [
       "array([[778.81],\n",
       "       [788.36],\n",
       "       [786.08],\n",
       "       [795.26],\n",
       "       [806.4 ],\n",
       "       [807.86],\n",
       "       [805.  ],\n",
       "       [807.14],\n",
       "       [807.48],\n",
       "       [807.08],\n",
       "       [805.81],\n",
       "       [805.12],\n",
       "       [806.91],\n",
       "       [807.25],\n",
       "       [822.3 ],\n",
       "       [829.62],\n",
       "       [837.81],\n",
       "       [834.71],\n",
       "       [814.66],\n",
       "       [796.86]])"
      ]
     },
     "execution_count": 41,
     "metadata": {},
     "output_type": "execute_result"
    }
   ],
   "source": [
    "test_set = pd.read_csv('Google_Stock_Price_Test.csv')\n",
    "real_stock_price = test_set.iloc[:, 1:2].values\n",
    "real_stock_price"
   ]
  },
  {
   "cell_type": "markdown",
   "metadata": {},
   "source": [
    "**Getting the predicted stock price of 2017**"
   ]
  },
  {
   "cell_type": "code",
   "execution_count": 42,
   "metadata": {},
   "outputs": [],
   "source": [
    "inputs = real_stock_price\n",
    "inputs = sc.transform(inputs)\n",
    "inputs = np.reshape(inputs, (20, 1, 1))\n",
    "predicted_stock_price = regressor.predict(inputs)\n",
    "predicted_stock_price = sc.inverse_transform(predicted_stock_price)"
   ]
  },
  {
   "cell_type": "markdown",
   "metadata": {},
   "source": [
    "**Visualising the results**"
   ]
  },
  {
   "cell_type": "code",
   "execution_count": 43,
   "metadata": {},
   "outputs": [
    {
     "data": {
      "image/png": "[encoded data removed]",
      "text/plain": [
       "<Figure size 432x288 with 1 Axes>"
      ]
     },
     "metadata": {},
     "output_type": "display_data"
    }
   ],
   "source": [
    "plt.plot(real_stock_price, color = 'red', label = 'Real Google Stock Price')\n",
    "plt.plot(predicted_stock_price, color = 'blue', label = 'Predicted Google Stock Price')\n",
    "plt.title('Google Stock Price Prediction')\n",
    "plt.xlabel('Time')\n",
    "plt.ylabel('Google Stock Price')\n",
    "plt.legend()\n",
    "plt.show()"
   ]
  },
  {
   "cell_type": "code",
   "execution_count": null,
   "metadata": {},
   "outputs": [],
   "source": []
  }
 ],
 "metadata": {
  "kernelspec": {
   "display_name": "Python 3",
   "language": "python",
   "name": "python3"
  },
  "language_info": {
   "codemirror_mode": {
    "name": "ipython",
    "version": 3
   },
   "file_extension": ".py",
   "mimetype": "text/x-python",
   "name": "python",
   "nbconvert_exporter": "python",
   "pygments_lexer": "ipython3",
   "version": "3.6.5"
  }
 },
 "nbformat": 4,
 "nbformat_minor": 2
}
